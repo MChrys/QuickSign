{
 "cells": [
  {
   "cell_type": "code",
   "execution_count": 1,
   "metadata": {},
   "outputs": [
    {
     "ename": "ModuleNotFoundError",
     "evalue": "No module named 'bqplot'",
     "output_type": "error",
     "traceback": [
      "\u001b[0;31m---------------------------------------------------------------------------\u001b[0m",
      "\u001b[0;31mModuleNotFoundError\u001b[0m                       Traceback (most recent call last)",
      "\u001b[0;32m<ipython-input-1-eb5e3fdaf449>\u001b[0m in \u001b[0;36m<module>\u001b[0;34m\u001b[0m\n\u001b[1;32m      2\u001b[0m \u001b[0;32mfrom\u001b[0m \u001b[0mipywidgets\u001b[0m \u001b[0;32mimport\u001b[0m \u001b[0minteract\u001b[0m\u001b[0;34m,\u001b[0m \u001b[0mfixed\u001b[0m\u001b[0;34m\u001b[0m\u001b[0;34m\u001b[0m\u001b[0m\n\u001b[1;32m      3\u001b[0m \u001b[0;32mimport\u001b[0m \u001b[0mipywidgets\u001b[0m \u001b[0;32mas\u001b[0m \u001b[0mwidgets\u001b[0m\u001b[0;34m\u001b[0m\u001b[0;34m\u001b[0m\u001b[0m\n\u001b[0;32m----> 4\u001b[0;31m \u001b[0;32mfrom\u001b[0m \u001b[0mbqplot\u001b[0m \u001b[0;32mimport\u001b[0m \u001b[0mpyplot\u001b[0m \u001b[0;32mas\u001b[0m \u001b[0mplt\u001b[0m\u001b[0;34m\u001b[0m\u001b[0;34m\u001b[0m\u001b[0m\n\u001b[0m\u001b[1;32m      5\u001b[0m \u001b[0;32mimport\u001b[0m \u001b[0mnumpy\u001b[0m \u001b[0;32mas\u001b[0m \u001b[0mnp\u001b[0m\u001b[0;34m\u001b[0m\u001b[0;34m\u001b[0m\u001b[0m\n\u001b[1;32m      6\u001b[0m \u001b[0;32mfrom\u001b[0m \u001b[0mnumpy\u001b[0m\u001b[0;34m.\u001b[0m\u001b[0mrandom\u001b[0m \u001b[0;32mimport\u001b[0m \u001b[0mrand\u001b[0m\u001b[0;34m\u001b[0m\u001b[0;34m\u001b[0m\u001b[0m\n",
      "\u001b[0;31mModuleNotFoundError\u001b[0m: No module named 'bqplot'"
     ]
    }
   ],
   "source": [
    "import mlflow\n",
    "from ipywidgets import interact, fixed\n",
    "import ipywidgets as widgets\n",
    "from bqplot import pyplot as plt\n",
    "import numpy as np\n",
    "from numpy.random import rand"
   ]
  },
  {
   "cell_type": "code",
   "execution_count": 11,
   "metadata": {},
   "outputs": [
    {
     "data": {
      "application/vnd.jupyter.widget-view+json": {
       "model_id": "5d7193c3c0484a149ab35d20872c43f1",
       "version_major": 2,
       "version_minor": 0
      },
      "text/plain": [
       "VBox(children=(Text(value='Quicksign-tensorflow', description='experiment'), Text(value='./project', descripti…"
      ]
     },
     "metadata": {},
     "output_type": "display_data"
    }
   ],
   "source": [
    "# defining some widgets\n",
    "param1 = widgets.Text(\n",
    "       value='100',\n",
    "       description='Batche size', )\n",
    "param2 = widgets.Text(\n",
    "       value='1000',\n",
    "       description='Train steps', )\n",
    "\n",
    "project_path= './project'\n",
    "file_path = project_path+'/train_predict_2.py'\n",
    "experiment_name = 'Quicksign-tensorflow'\n",
    "\n",
    "experiment =widgets.Text(\n",
    "        value =experiment_name,\n",
    "        description = 'experiment',)\n",
    "project= widgets.Text(\n",
    "        value =project_path,\n",
    "        description = 'project path',)\n",
    "filep = widgets.Text(\n",
    "        value =file_path,\n",
    "        description = 'file location',)\n",
    "button_run = widgets.Button(description='Run')\n",
    "button_eval = widgets.Button(description='Rating')\n",
    "\n",
    "\n",
    "def preprocess():\n",
    "    mlflow.set_experiment('Quicksign-tensorflow')\n",
    "\n",
    "#button action\n",
    "def on_button_clicked1(_):\n",
    "      with out:\n",
    "            clear_output()\n",
    "            preprocess()\n",
    "            mlflow.projects.run(project.value)\n",
    "            print('Run has ended')\n",
    "\n",
    "def on_button_clicked2(_):\n",
    "    import os\n",
    "    with out:\n",
    "        clear_output()\n",
    "        preprocess()\n",
    "        os.system('pylint '+project.value+filep.value)\n",
    "\n",
    "# linking button and function \n",
    "button_run.on_click(on_button_clicked1)\n",
    "button_eval.on_click(on_button_clicked2)\n",
    "\n",
    "#define the GUI\n",
    "box1 = widgets.VBox([param1, param2, button_run])\n",
    "box2 = widgets.VBox([filep , button_eval])\n",
    "# define tab\n",
    "children = [box1, box2]\n",
    "tab = widgets.Tab()\n",
    "tab.children = children\n",
    "tab.set_title(0, 'Project')\n",
    "tab.set_title(1, 'Pylint eval')\n",
    "\n",
    "#merge final GUI\n",
    "final_tab = widgets.Tab()\n",
    "final_box=  widgets.VBox([experiment,project,tab])\n",
    "final_box"
   ]
  }
 ],
 "metadata": {
  "kernelspec": {
   "display_name": "Python 3",
   "language": "python",
   "name": "python3"
  },
  "language_info": {
   "codemirror_mode": {
    "name": "ipython",
    "version": 3
   },
   "file_extension": ".py",
   "mimetype": "text/x-python",
   "name": "python",
   "nbconvert_exporter": "python",
   "pygments_lexer": "ipython3",
   "version": "3.7.5-final"
  }
 },
 "nbformat": 4,
 "nbformat_minor": 4
}