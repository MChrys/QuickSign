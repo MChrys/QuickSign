{
 "cells": [
  {
   "cell_type": "code",
   "execution_count": 1,
   "metadata": {},
   "outputs": [],
   "source": [
    "from ipywidgets import interact, fixed\n",
    "import ipywidgets as widgets\n",
    "from bqplot import pyplot as plt\n",
    "import numpy as np\n",
    "from numpy.random import rand"
   ]
  },
  {
   "cell_type": "code",
   "execution_count": 4,
   "metadata": {},
   "outputs": [
    {
     "ename": "ModuleNotFoundError",
     "evalue": "No module named 'mlflow'",
     "output_type": "error",
     "traceback": [
      "\u001b[1;31m---------------------------------------------------------------------------\u001b[0m",
      "\u001b[1;31mModuleNotFoundError\u001b[0m                       Traceback (most recent call last)",
      "\u001b[1;32m<ipython-input-4-27001a922006>\u001b[0m in \u001b[0;36m<module>\u001b[1;34m\u001b[0m\n\u001b[1;32m----> 1\u001b[1;33m \u001b[1;32mimport\u001b[0m \u001b[0mmlflow\u001b[0m\u001b[1;33m\u001b[0m\u001b[1;33m\u001b[0m\u001b[0m\n\u001b[0m\u001b[0;32m      2\u001b[0m \u001b[0mmlflow\u001b[0m\u001b[1;33m.\u001b[0m\u001b[0mset_experiment\u001b[0m\u001b[1;33m(\u001b[0m\u001b[1;34m'Quicksign-tensorflow'\u001b[0m\u001b[1;33m)\u001b[0m\u001b[1;33m\u001b[0m\u001b[1;33m\u001b[0m\u001b[0m\n",
      "\u001b[1;31mModuleNotFoundError\u001b[0m: No module named 'mlflow'"
     ]
    }
   ],
   "source": [
    "import mlflow\n",
    "mlflow.set_experiment('Quicksign-tensorflow')"
   ]
  },
  {
   "cell_type": "code",
   "execution_count": 6,
   "metadata": {},
   "outputs": [
    {
     "name": "stdout",
     "output_type": "stream",
     "text": [
      "INFO: 'Quicksign-tensorflow' does not exist. Creating a new experiment\n"
     ]
    }
   ],
   "source": [
    "mlflow.set_experiment('Quicksign-tensorflow')"
   ]
  },
  {
   "cell_type": "code",
   "execution_count": 7,
   "metadata": {},
   "outputs": [
    {
     "name": "stderr",
     "output_type": "stream",
     "text": [
      "2020/01/09 01:11:49 INFO mlflow.projects: === Creating conda environment mlflow-4c1210a7d0a5aa0e3735d1011f573ec229e91769 ===\n",
      "2020/01/09 01:15:45 INFO mlflow.projects: === Created directory /tmp/tmpm04zpqys for downloading remote URIs passed to arguments of type 'path' ===\n",
      "2020/01/09 01:15:48 INFO mlflow.projects: === Running command 'source activate mlflow-4c1210a7d0a5aa0e3735d1011f573ec229e91769 1>&2 && python train_predict_2.py --batch_size=100 --train_steps=1000' in run with ID '4652efa2c6104f7c91796d93cca6c165' === \n",
      "2020/01/09 01:16:21 INFO mlflow.projects: === Run (ID '4652efa2c6104f7c91796d93cca6c165') succeeded ===\n"
     ]
    },
    {
     "data": {
      "text/plain": [
       "<mlflow.projects.submitted_run.LocalSubmittedRun at 0x7f2fb7e0fb90>"
      ]
     },
     "execution_count": 7,
     "metadata": {},
     "output_type": "execute_result"
    }
   ],
   "source": [
    "mlflow.projects.run('./QuickSign')"
   ]
  },
  {
   "cell_type": "code",
   "execution_count": 11,
   "metadata": {},
   "outputs": [
    {
     "data": {
      "application/vnd.jupyter.widget-view+json": {
       "model_id": "5d7193c3c0484a149ab35d20872c43f1",
       "version_major": 2,
       "version_minor": 0
      },
      "text/plain": [
       "VBox(children=(Text(value='Quicksign-tensorflow', description='experiment'), Text(value='./project', descripti…"
      ]
     },
     "metadata": {},
     "output_type": "display_data"
    }
   ],
   "source": [
    "# defining some widgets\n",
    "param1 = widgets.Text(\n",
    "       value='100',\n",
    "       description='Batche size', )\n",
    "param2 = widgets.Text(\n",
    "       value='1000',\n",
    "       description='Train steps', )\n",
    "\n",
    "project_path= './project'\n",
    "file_path = project_path+'/train_predict_2.py'\n",
    "experiment_name = 'Quicksign-tensorflow'\n",
    "\n",
    "experiment =widgets.Text(\n",
    "        value =experiment_name,\n",
    "        description = 'experiment',)\n",
    "project= widgets.Text(\n",
    "        value =project_path,\n",
    "        description = 'project path',)\n",
    "filep = widgets.Text(\n",
    "        value =file_path,\n",
    "        description = 'file location',)\n",
    "button_run = widgets.Button(description='Run')\n",
    "button_eval = widgets.Button(description='Rating')\n",
    "\n",
    "\n",
    "def preprocess():\n",
    "    mlflow.set_experiment('Quicksign-tensorflow')\n",
    "\n",
    "#button action\n",
    "def on_button_clicked1(_):\n",
    "      with out:\n",
    "            clear_output()\n",
    "            preprocess()\n",
    "            mlflow.projects.run(project.value)\n",
    "            print('Run has ended')\n",
    "\n",
    "def on_button_clicked2(_):\n",
    "    import os\n",
    "    with out:\n",
    "        clear_output()\n",
    "        preprocess()\n",
    "        os.system('pylint '+project.value+filep.value)\n",
    "\n",
    "# linking button and function \n",
    "button_run.on_click(on_button_clicked1)\n",
    "button_eval.on_click(on_button_clicked2)\n",
    "\n",
    "#define the GUI\n",
    "box1 = widgets.VBox([param1, param2, button_run])\n",
    "box2 = widgets.VBox([filep , button_eval])\n",
    "# define tab\n",
    "children = [box1, box2]\n",
    "tab = widgets.Tab()\n",
    "tab.children = children\n",
    "tab.set_title(0, 'Project')\n",
    "tab.set_title(1, 'Pylint eval')\n",
    "\n",
    "#merge final GUI\n",
    "final_tab = widgets.Tab()\n",
    "final_box=  widgets.VBox([experiment,project,tab])\n",
    "final_box"
   ]
  },
  {
   "cell_type": "code",
   "execution_count": 4,
   "metadata": {},
   "outputs": [
    {
     "name": "stderr",
     "output_type": "stream",
     "text": [
      "Enabling notebook extension jupyter-js-widgets/extension...\n",
      "      - Validating: ok\n"
     ]
    }
   ],
   "source": [
    "!jupyter nbextension enable --py widgetsnbextension"
   ]
  },
  {
   "cell_type": "code",
   "execution_count": null,
   "metadata": {},
   "outputs": [],
   "source": [
    "!jupyter labextension install @jupyter-widgets/jupyterlab-manager"
   ]
  },
  {
   "cell_type": "code",
   "execution_count": null,
   "metadata": {},
   "outputs": [],
   "source": []
  }
 ],
 "metadata": {
  "kernelspec": {
   "display_name": "Python 3",
   "language": "python",
   "name": "python3"
  },
  "language_info": {
   "codemirror_mode": {
    "name": "ipython",
    "version": 3
   },
   "file_extension": ".py",
   "mimetype": "text/x-python",
   "name": "python",
   "nbconvert_exporter": "python",
   "pygments_lexer": "ipython3",
   "version": "3.7.5"
  }
 },
 "nbformat": 4,
 "nbformat_minor": 4
}
