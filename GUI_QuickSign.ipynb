{
 "cells": [
  {
   "cell_type": "code",
   "execution_count": 11,
   "metadata": {},
   "outputs": [
    {
     "data": {
      "application/vnd.jupyter.widget-view+json": {
       "model_id": "5d7193c3c0484a149ab35d20872c43f1",
       "version_major": 2,
       "version_minor": 0
      },
      "text/plain": [
       "VBox(children=(Text(value='Quicksign-tensorflow', description='experiment'), Text(value='./project', descripti…"
      ]
     },
     "metadata": {},
     "output_type": "display_data"
    }
   ],
   "source": [
    "import mlflow\n",
    "from ipywidgets import interact, fixed\n",
    "import ipywidgets as widgets\n",
    "from bqplot import pyplot as plt\n",
    "import numpy as np\n",
    "from numpy.random import rand\n",
    "from IPython.display import display, Markdown, clear_output\n",
    "\n",
    "from display_log.log import cmd_log\n",
    "\n",
    "# define widgets\n",
    "param1 = widgets.Text(\n",
    "       value='100',\n",
    "       description='Batche size', )\n",
    "param2 = widgets.Text(\n",
    "       value='1000',\n",
    "       description='Train steps', )\n",
    "\n",
    "project_path= './project'\n",
    "file_name ='train_predict_2.py'\n",
    "file_path = project_path+'/'+file_name\n",
    "experiment_name = 'Quicksign-tensorflow'\n",
    "\n",
    "experiment =widgets.Text(\n",
    "        value =experiment_name,\n",
    "        description = 'experiment',)\n",
    "project= widgets.Text(\n",
    "        value =project_path,\n",
    "        description = 'project path',)\n",
    "filep = widgets.Text(\n",
    "        value =file_name,\n",
    "        description = 'file name',)\n",
    "\n",
    "#Define button\n",
    "button_run = widgets.Button(description='Run')\n",
    "button_eval = widgets.Button(description='Rating')\n",
    "out_run = widgets.Output()\n",
    "out_eval =widgets.Output()\n",
    "\n",
    "\n",
    "#button action\n",
    "def on_button_clicked1(_):\n",
    "    mlflow.set_experiment(experiment.value)\n",
    "    with out_run:\n",
    "        clear_output()\n",
    "        params = {'batch_size':param1.value, 'train_steps':param2.value}\n",
    "        mlflow.projects.run(project.value, parameters= params)\n",
    "        print('Run has ended')\n",
    "\n",
    "def on_button_clicked2(_):\n",
    "    import os\n",
    "    mlflow.set_experiment(experiment.value)\n",
    "    with out_eval:\n",
    "        clear_output()\n",
    "        cmd_log('pylint '+project.value+'/'+filep.value)\n",
    "\n",
    "# linking button and function \n",
    "button_run.on_click(on_button_clicked1)\n",
    "button_eval.on_click(on_button_clicked2)\n",
    "\n",
    "#define the GUI\n",
    "box1 = widgets.VBox([param1, param2, widgets.VBox([button_run,out_run])])\n",
    "box2 = widgets.VBox([filep , widgets.VBox([button_eval,out_eval])])\n",
    "# define tab\n",
    "children = [box1, box2]\n",
    "tab = widgets.Tab()\n",
    "tab.children = children\n",
    "tab.set_title(0, 'Project')\n",
    "tab.set_title(1, 'Pylint eval')\n",
    "\n",
    "#merge final GUI\n",
    "final_tab = widgets.Tab()\n",
    "final_box=  widgets.VBox([experiment,project,tab])\n",
    "final_box"
   ]
  },
  {
   "cell_type": "code",
   "execution_count": null,
   "metadata": {},
   "outputs": [],
   "source": [
    "from IPython.display import HTML\n",
    "\n",
    "HTML('''<script>\n",
    "code_show=true; \n",
    "function code_toggle() {\n",
    " if (code_show){\n",
    " $('div.input').hide();\n",
    " } else {\n",
    " $('div.input').show();\n",
    " }\n",
    " code_show = !code_show\n",
    "} \n",
    "$( document ).ready(code_toggle);\n",
    "</script>\n",
    "<form action=\"javascript:code_toggle()\"><input type=\"submit\" value=\"Hiding / Display Code \"></form>''')"
   ]
  },
  {
   "cell_type": "code",
   "execution_count": null,
   "metadata": {},
   "outputs": [],
   "source": []
  }
 ],
 "metadata": {
  "kernelspec": {
   "display_name": "Python 3",
   "language": "python",
   "name": "python3"
  },
  "language_info": {
   "codemirror_mode": {
    "name": "ipython",
    "version": 3
   },
   "file_extension": ".py",
   "mimetype": "text/x-python",
   "name": "python",
   "nbconvert_exporter": "python",
   "pygments_lexer": "ipython3",
   "version": "3.7.4-final"
  }
 },
 "nbformat": 4,
 "nbformat_minor": 4
}